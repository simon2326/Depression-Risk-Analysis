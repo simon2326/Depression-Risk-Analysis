{
 "cells": [
  {
   "cell_type": "markdown",
   "metadata": {
    "id": "a2gNsAXNF4l2"
   },
   "source": [
    "# ***Despliegue de Car-Risk con interfaz gráfica de Streamlit y enlace público con LocalTunnel***\n",
    "\n",
    "Se debe cargar:\n",
    "* app.py: aplicación con el despliegue\n",
    "* modelo.pkl: modelos de machine learning"
   ]
  },
  {
   "cell_type": "markdown",
   "metadata": {
    "id": "Iw1ixYjKLHOb"
   },
   "source": [
    "# ***Streamlit***\n",
    "Es una plataforma de código abierto que se utiliza para crear aplicaciones web interactivas y de visualización de datos.\n",
    "\n",
    "https://streamlit.io/\n",
    "\n",
    "**Streamlit para despliegue de modelos**\n",
    "\n",
    "Nos permite crear aplicaciones web para despliegue de modelos predictivos.\n",
    "\n",
    "Se debe tener previamente una aplicación app.y\n",
    "\n",
    "* Para ejecutar en un equipo local: !streamlit run app.py\n",
    "* Desde Google Colab necesitamos un tunel que nos permita simular un servidor web local y asi acceder la aplicación por un enlace público. Se puede hacer con localtunnel."
   ]
  },
  {
   "cell_type": "code",
   "execution_count": null,
   "metadata": {
    "colab": {
     "base_uri": "https://localhost:8080/"
    },
    "id": "rnYJkQllKyQa",
    "outputId": "969b5cac-7ab5-40f0-9c25-46f4aebb9bd1"
   },
   "outputs": [],
   "source": [
    "# Instalación\n",
    "!pip install streamlit"
   ]
  },
  {
   "cell_type": "code",
   "execution_count": null,
   "metadata": {
    "colab": {
     "base_uri": "https://localhost:8080/"
    },
    "id": "uKAlcM2RLZuD",
    "outputId": "bd4a5d05-507b-49d4-a65b-00aa30a89f99"
   },
   "outputs": [],
   "source": [
    "# Correr la app en background, recuerda cargar el archivo app.py\n",
    "!nohup streamlit run app.py &"
   ]
  },
  {
   "cell_type": "markdown",
   "metadata": {
    "id": "KI8q4A1TL4pK"
   },
   "source": [
    "# ***LocalTunnel***\n",
    "Es una herramienta que permite exponer un servidor web local a través de Internet utilizando una conexión segura y encriptada. Al instalar el paquete de LocalTunnel usando npm, puedes crear un túnel hacia tu servidor local y compartir la dirección URL generada por LocalTunnel para que otras personas puedan acceder a tu servidor web local desde cualquier lugar del mundo."
   ]
  },
  {
   "cell_type": "code",
   "execution_count": 6,
   "metadata": {
    "colab": {
     "base_uri": "https://localhost:8080/"
    },
    "id": "ruQuD9yELZpB",
    "outputId": "105d9053-6ce7-4a69-bc3d-89553b1af7f6"
   },
   "outputs": [
    {
     "name": "stdout",
     "output_type": "stream",
     "text": [
      "\n",
      "added 22 packages in 3s\n",
      "\n",
      "3 packages are looking for funding\n",
      "  run `npm fund` for details\n"
     ]
    },
    {
     "name": "stderr",
     "output_type": "stream",
     "text": [
      "npm notice \n",
      "npm notice New minor version of npm available! 10.2.3 -> 10.9.0\n",
      "npm notice Changelog: <https://github.com/npm/cli/releases/tag/v10.9.0>\n",
      "npm notice Run `npm install -g npm@10.9.0` to update!\n",
      "npm notice \n"
     ]
    }
   ],
   "source": [
    "!npm install localtunnel"
   ]
  },
  {
   "cell_type": "code",
   "execution_count": 7,
   "metadata": {
    "colab": {
     "base_uri": "https://localhost:8080/"
    },
    "id": "8B78J2RwLZi2",
    "outputId": "b0bd1453-45b0-4bdd-9ae5-f4d841253679"
   },
   "outputs": [
    {
     "name": "stdout",
     "output_type": "stream",
     "text": [
      "Password/Enpoint IP for localtunnel is: 200.3.144.139\n"
     ]
    }
   ],
   "source": [
    "import urllib.request\n",
    "\n",
    "print(\"Password/Enpoint IP for localtunnel is:\",urllib.request.urlopen('https://ipv4.icanhazip.com').read().decode('utf8').strip(\"\\n\"))"
   ]
  },
  {
   "cell_type": "code",
   "execution_count": 21,
   "metadata": {
    "colab": {
     "base_uri": "https://localhost:8080/"
    },
    "id": "_HStOeo4LZfc",
    "outputId": "af528f13-5e9d-4751-c26b-4ffd612862c4"
   },
   "outputs": [
    {
     "name": "stdout",
     "output_type": "stream",
     "text": [
      "your url is: https://large-waves-lose.loca.lt\n",
      "^C\n"
     ]
    }
   ],
   "source": [
    "#Se crea un túnel hacia un servidor local que se está ejecutando en el puerto 8501.\n",
    "!npx localtunnel --port 8501"
   ]
  }
 ],
 "metadata": {
  "colab": {
   "provenance": []
  },
  "kernelspec": {
   "display_name": "Python 3",
   "name": "python3"
  },
  "language_info": {
   "codemirror_mode": {
    "name": "ipython",
    "version": 3
   },
   "file_extension": ".py",
   "mimetype": "text/x-python",
   "name": "python",
   "nbconvert_exporter": "python",
   "pygments_lexer": "ipython3",
   "version": "3.10.11"
  }
 },
 "nbformat": 4,
 "nbformat_minor": 0
}
