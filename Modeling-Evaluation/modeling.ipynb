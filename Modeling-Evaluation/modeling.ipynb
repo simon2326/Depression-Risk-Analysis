{
 "cells": [
  {
   "cell_type": "markdown",
   "metadata": {},
   "source": [
    "# ***1. Importación de librerías y datos***"
   ]
  },
  {
   "cell_type": "code",
   "execution_count": 96,
   "metadata": {},
   "outputs": [],
   "source": [
    "#Librerías\n",
    "import pandas as pd\n",
    "import numpy as np"
   ]
  },
  {
   "cell_type": "code",
   "execution_count": 97,
   "metadata": {},
   "outputs": [],
   "source": [
    "# Cargar los conjuntos de datos\n",
    "datanum = pd.read_csv(\"../Data/numeric_data.csv\")\n",
    "datacat = pd.read_csv(\"../Data/categorical_data.csv\")\n",
    "datacat = datacat.astype('category')"
   ]
  },
  {
   "cell_type": "code",
   "execution_count": 98,
   "metadata": {},
   "outputs": [
    {
     "name": "stdout",
     "output_type": "stream",
     "text": [
      "Datos numéricos:\n",
      "<class 'pandas.core.frame.DataFrame'>\n",
      "RangeIndex: 2556 entries, 0 to 2555\n",
      "Data columns (total 50 columns):\n",
      " #   Column                                                Non-Null Count  Dtype  \n",
      "---  ------                                                --------------  -----  \n",
      " 0   Age                                                   2556 non-null   float64\n",
      " 1   Work/Study Hours                                      2556 non-null   float64\n",
      " 2   Depression                                            2556 non-null   int64  \n",
      " 3   Working Professional or Student_Working Professional  2556 non-null   int64  \n",
      " 4   Have you ever had suicidal thoughts ?_Yes             2556 non-null   int64  \n",
      " 5   Dietary Habits_Healthy                                2556 non-null   int64  \n",
      " 6   Dietary Habits_Moderate                               2556 non-null   int64  \n",
      " 7   Dietary Habits_Unhealthy                              2556 non-null   int64  \n",
      " 8   Degree_B.Arch                                         2556 non-null   int64  \n",
      " 9   Degree_B.Com                                          2556 non-null   int64  \n",
      " 10  Degree_B.Ed                                           2556 non-null   int64  \n",
      " 11  Degree_B.Pharm                                        2556 non-null   int64  \n",
      " 12  Degree_B.Tech                                         2556 non-null   int64  \n",
      " 13  Degree_BA                                             2556 non-null   int64  \n",
      " 14  Degree_BBA                                            2556 non-null   int64  \n",
      " 15  Degree_BCA                                            2556 non-null   int64  \n",
      " 16  Degree_BE                                             2556 non-null   int64  \n",
      " 17  Degree_BHM                                            2556 non-null   int64  \n",
      " 18  Degree_BSc                                            2556 non-null   int64  \n",
      " 19  Degree_Class 12                                       2556 non-null   int64  \n",
      " 20  Degree_LLB                                            2556 non-null   int64  \n",
      " 21  Degree_LLM                                            2556 non-null   int64  \n",
      " 22  Degree_M.Com                                          2556 non-null   int64  \n",
      " 23  Degree_M.Ed                                           2556 non-null   int64  \n",
      " 24  Degree_M.Pharm                                        2556 non-null   int64  \n",
      " 25  Degree_M.Tech                                         2556 non-null   int64  \n",
      " 26  Degree_MA                                             2556 non-null   int64  \n",
      " 27  Degree_MBA                                            2556 non-null   int64  \n",
      " 28  Degree_MBBS                                           2556 non-null   int64  \n",
      " 29  Degree_MCA                                            2556 non-null   int64  \n",
      " 30  Degree_MD                                             2556 non-null   int64  \n",
      " 31  Degree_ME                                             2556 non-null   int64  \n",
      " 32  Degree_MHM                                            2556 non-null   int64  \n",
      " 33  Degree_MSc                                            2556 non-null   int64  \n",
      " 34  Degree_PhD                                            2556 non-null   int64  \n",
      " 35  Financial Stress_1                                    2556 non-null   int64  \n",
      " 36  Financial Stress_2                                    2556 non-null   int64  \n",
      " 37  Financial Stress_3                                    2556 non-null   int64  \n",
      " 38  Financial Stress_4                                    2556 non-null   int64  \n",
      " 39  Financial Stress_5                                    2556 non-null   int64  \n",
      " 40  Job/Study Satisfaction_1.0                            2556 non-null   int64  \n",
      " 41  Job/Study Satisfaction_2.0                            2556 non-null   int64  \n",
      " 42  Job/Study Satisfaction_3.0                            2556 non-null   int64  \n",
      " 43  Job/Study Satisfaction_4.0                            2556 non-null   int64  \n",
      " 44  Job/Study Satisfaction_5.0                            2556 non-null   int64  \n",
      " 45  Work/Academic Pressure_1.0                            2556 non-null   int64  \n",
      " 46  Work/Academic Pressure_2.0                            2556 non-null   int64  \n",
      " 47  Work/Academic Pressure_3.0                            2556 non-null   int64  \n",
      " 48  Work/Academic Pressure_4.0                            2556 non-null   int64  \n",
      " 49  Work/Academic Pressure_5.0                            2556 non-null   int64  \n",
      "dtypes: float64(2), int64(48)\n",
      "memory usage: 998.6 KB\n"
     ]
    }
   ],
   "source": [
    "# Visualizamos información sobre los datos\n",
    "print(\"Datos numéricos:\")\n",
    "datanum.info()"
   ]
  },
  {
   "cell_type": "code",
   "execution_count": 99,
   "metadata": {},
   "outputs": [
    {
     "name": "stdout",
     "output_type": "stream",
     "text": [
      "Datos categóricos:\n",
      "<class 'pandas.core.frame.DataFrame'>\n",
      "RangeIndex: 2556 entries, 0 to 2555\n",
      "Data columns (total 10 columns):\n",
      " #   Column                                 Non-Null Count  Dtype   \n",
      "---  ------                                 --------------  -----   \n",
      " 0   Age                                    2556 non-null   category\n",
      " 1   Working Professional or Student        2556 non-null   category\n",
      " 2   Dietary Habits                         2556 non-null   category\n",
      " 3   Degree                                 2556 non-null   category\n",
      " 4   Have you ever had suicidal thoughts ?  2556 non-null   category\n",
      " 5   Work/Study Hours                       2556 non-null   category\n",
      " 6   Financial Stress                       2556 non-null   category\n",
      " 7   Depression                             2556 non-null   category\n",
      " 8   Job/Study Satisfaction                 2556 non-null   category\n",
      " 9   Work/Academic Pressure                 2556 non-null   category\n",
      "dtypes: category(10)\n",
      "memory usage: 27.9 KB\n"
     ]
    }
   ],
   "source": [
    "# Visualizamos información sobre los datos\n",
    "print(\"Datos categóricos:\")\n",
    "datacat.info()"
   ]
  },
  {
   "cell_type": "code",
   "execution_count": 100,
   "metadata": {},
   "outputs": [],
   "source": [
    "# Función para división de datos\n",
    "from sklearn.model_selection import train_test_split\n",
    "\n",
    "def dividir_datos(dataset, target_column):\n",
    "    # División de los datos en entrenamiento y prueba\n",
    "    X = dataset.drop(target_column, axis=1)\n",
    "    Y = dataset[target_column]\n",
    "    X_train, X_test, Y_train, Y_test = train_test_split(X, Y, test_size=0.3, random_state=42, stratify=Y)\n",
    "    \n",
    "    return X_train, X_test, Y_train, Y_test"
   ]
  },
  {
   "cell_type": "code",
   "execution_count": 101,
   "metadata": {},
   "outputs": [],
   "source": [
    "# Función para balancear datos numéricos con SMOTE\n",
    "from imblearn.over_sampling import SMOTE\n",
    "\n",
    "def balanceoNum(X_train, Y_train):\n",
    "    # Aplicar SMOTE al conjunto de entrenamiento\n",
    "    smote = SMOTE(random_state=42)\n",
    "    X_train_bal, Y_train_bal = smote.fit_resample(X_train, Y_train)\n",
    "\n",
    "    Y_train_bal.value_counts().plot(kind='barh')\n",
    "    \n",
    "    return X_train_bal, Y_train_bal"
   ]
  },
  {
   "cell_type": "code",
   "execution_count": 102,
   "metadata": {},
   "outputs": [
    {
     "data": {
      "text/html": [
       "<div>\n",
       "<style scoped>\n",
       "    .dataframe tbody tr th:only-of-type {\n",
       "        vertical-align: middle;\n",
       "    }\n",
       "\n",
       "    .dataframe tbody tr th {\n",
       "        vertical-align: top;\n",
       "    }\n",
       "\n",
       "    .dataframe thead th {\n",
       "        text-align: right;\n",
       "    }\n",
       "</style>\n",
       "<table border=\"1\" class=\"dataframe\">\n",
       "  <thead>\n",
       "    <tr style=\"text-align: right;\">\n",
       "      <th></th>\n",
       "      <th>Age</th>\n",
       "      <th>Working Professional or Student</th>\n",
       "      <th>Dietary Habits</th>\n",
       "      <th>Degree</th>\n",
       "      <th>Have you ever had suicidal thoughts ?</th>\n",
       "      <th>Work/Study Hours</th>\n",
       "      <th>Financial Stress</th>\n",
       "      <th>Depression</th>\n",
       "      <th>Job/Study Satisfaction</th>\n",
       "      <th>Work/Academic Pressure</th>\n",
       "    </tr>\n",
       "  </thead>\n",
       "  <tbody>\n",
       "    <tr>\n",
       "      <th>352</th>\n",
       "      <td>[39.0, 49.5)</td>\n",
       "      <td>Working Professional</td>\n",
       "      <td>Unhealthy</td>\n",
       "      <td>B.Arch</td>\n",
       "      <td>Yes</td>\n",
       "      <td>[9.0, 12.012)</td>\n",
       "      <td>5</td>\n",
       "      <td>0</td>\n",
       "      <td>3.0</td>\n",
       "      <td>2.0</td>\n",
       "    </tr>\n",
       "    <tr>\n",
       "      <th>54</th>\n",
       "      <td>[39.0, 49.5)</td>\n",
       "      <td>Working Professional</td>\n",
       "      <td>Moderate</td>\n",
       "      <td>MBBS</td>\n",
       "      <td>Yes</td>\n",
       "      <td>[9.0, 12.012)</td>\n",
       "      <td>3</td>\n",
       "      <td>0</td>\n",
       "      <td>3.0</td>\n",
       "      <td>5.0</td>\n",
       "    </tr>\n",
       "    <tr>\n",
       "      <th>1661</th>\n",
       "      <td>[39.0, 49.5)</td>\n",
       "      <td>Working Professional</td>\n",
       "      <td>Healthy</td>\n",
       "      <td>M.Pharm</td>\n",
       "      <td>Yes</td>\n",
       "      <td>[0.0, 3.0)</td>\n",
       "      <td>4</td>\n",
       "      <td>0</td>\n",
       "      <td>2.0</td>\n",
       "      <td>4.0</td>\n",
       "    </tr>\n",
       "    <tr>\n",
       "      <th>1658</th>\n",
       "      <td>[28.5, 39.0)</td>\n",
       "      <td>Working Professional</td>\n",
       "      <td>Unhealthy</td>\n",
       "      <td>MSc</td>\n",
       "      <td>No</td>\n",
       "      <td>[0.0, 3.0)</td>\n",
       "      <td>5</td>\n",
       "      <td>0</td>\n",
       "      <td>3.0</td>\n",
       "      <td>2.0</td>\n",
       "    </tr>\n",
       "    <tr>\n",
       "      <th>1581</th>\n",
       "      <td>[18.0, 28.5)</td>\n",
       "      <td>Working Professional</td>\n",
       "      <td>Moderate</td>\n",
       "      <td>B.Com</td>\n",
       "      <td>No</td>\n",
       "      <td>[3.0, 6.0)</td>\n",
       "      <td>3</td>\n",
       "      <td>0</td>\n",
       "      <td>3.0</td>\n",
       "      <td>1.0</td>\n",
       "    </tr>\n",
       "  </tbody>\n",
       "</table>\n",
       "</div>"
      ],
      "text/plain": [
       "               Age Working Professional or Student Dietary Habits   Degree  \\\n",
       "352   [39.0, 49.5)            Working Professional      Unhealthy   B.Arch   \n",
       "54    [39.0, 49.5)            Working Professional       Moderate     MBBS   \n",
       "1661  [39.0, 49.5)            Working Professional        Healthy  M.Pharm   \n",
       "1658  [28.5, 39.0)            Working Professional      Unhealthy      MSc   \n",
       "1581  [18.0, 28.5)            Working Professional       Moderate    B.Com   \n",
       "\n",
       "     Have you ever had suicidal thoughts ? Work/Study Hours Financial Stress  \\\n",
       "352                                    Yes    [9.0, 12.012)                5   \n",
       "54                                     Yes    [9.0, 12.012)                3   \n",
       "1661                                   Yes       [0.0, 3.0)                4   \n",
       "1658                                    No       [0.0, 3.0)                5   \n",
       "1581                                    No       [3.0, 6.0)                3   \n",
       "\n",
       "      Depression Job/Study Satisfaction Work/Academic Pressure  \n",
       "352            0                    3.0                    2.0  \n",
       "54             0                    3.0                    5.0  \n",
       "1661           0                    2.0                    4.0  \n",
       "1658           0                    3.0                    2.0  \n",
       "1581           0                    3.0                    1.0  "
      ]
     },
     "execution_count": 102,
     "metadata": {},
     "output_type": "execute_result"
    }
   ],
   "source": [
    "import pickle\n",
    "\n",
    "# Cargar el LabelEncoder desde el archivo\n",
    "with open('../DataPreparation/labelencoder.pkl', 'rb') as file:\n",
    "    labelencoder = pickle.load(file)\n",
    "\n",
    "# Aplicar el LabelEncoder cargado a una columna\n",
    "# Suponiendo que tienes una columna llamada \"Depression\" que necesita ser codificada\n",
    "datacat[\"Depression\"] = labelencoder.transform(datacat[\"Depression\"])\n",
    "\n",
    "# Muestra una muestra de los datos transformados\n",
    "datacat.sample(5)\n"
   ]
  },
  {
   "cell_type": "code",
   "execution_count": 103,
   "metadata": {},
   "outputs": [],
   "source": [
    "# Función para balancear datos categóricos con SMOTENC\n",
    "from imblearn.over_sampling import SMOTENC\n",
    "\n",
    "def balanceoCat(X_train, Y_train):\n",
    "    # Asegurarse de que todas las columnas sean de tipo 'category'\n",
    "    for col in X_train.columns:\n",
    "        X_train[col] = X_train[col].astype('category')\n",
    "    \n",
    "    # Obtener los índices de las columnas categóricas\n",
    "    categorical_indices = list(range(X_train.shape[1]))\n",
    "    \n",
    "    # Agregar una columna numérica temporal para permitir que SMOTENC funcione\n",
    "    X_train['temp_numeric'] = 0  # Columna numérica temporal\n",
    "    \n",
    "    # Ajustar los índices de las columnas categóricas para excluir la columna temporal\n",
    "    categorical_indices = list(range(X_train.shape[1] - 1))\n",
    "    smote = SMOTENC(categorical_features=categorical_indices, random_state=42, k_neighbors=2)\n",
    "    X_train_bal, Y_train_bal = smote.fit_resample(X_train, Y_train)\n",
    "    \n",
    "    # Eliminar la columna numérica temporal después del balanceo\n",
    "    X_train_bal = X_train_bal.drop('temp_numeric', axis=1)\n",
    "    \n",
    "    Y_train_bal.value_counts().plot(kind='barh')\n",
    "    \n",
    "    return X_train_bal, Y_train_bal\n"
   ]
  },
  {
   "cell_type": "code",
   "execution_count": 104,
   "metadata": {},
   "outputs": [
    {
     "data": {
      "image/png": "[encoded data removed]",
      "text/plain": [
       "<Figure size 640x480 with 1 Axes>"
      ]
     },
     "metadata": {},
     "output_type": "display_data"
    }
   ],
   "source": [
    "# Dividir y balancear los conjuntos de datos numéricos\n",
    "X_num_train, X_num_test, Y_num_train, Y_num_test = dividir_datos(datanum, 'Depression')\n",
    "X_num_train_bal, Y_num_train_bal = balanceoNum(X_num_train, Y_num_train)"
   ]
  },
  {
   "cell_type": "code",
   "execution_count": 105,
   "metadata": {},
   "outputs": [
    {
     "data": {
      "image/png": "[encoded data removed]",
      "text/plain": [
       "<Figure size 640x480 with 1 Axes>"
      ]
     },
     "metadata": {},
     "output_type": "display_data"
    }
   ],
   "source": [
    "# Dividir y balancear los conjuntos de datos categóricos\n",
    "X_cat_train, X_cat_test, Y_cat_train, Y_cat_test = dividir_datos(datacat, 'Depression')\n",
    "X_cat_train_bal, Y_cat_train_bal = balanceoCat(X_cat_train, Y_cat_train)"
   ]
  },
  {
   "cell_type": "code",
   "execution_count": 106,
   "metadata": {},
   "outputs": [],
   "source": [
    "#Librerías para clasificación\n",
    "from sklearn.model_selection import StratifiedKFold, cross_validate\n",
    "from sklearn.svm import SVC\n",
    "from sklearn.neural_network import MLPClassifier\n",
    "from sklearn.tree import DecisionTreeClassifier\n",
    "from sklearn.neighbors import KNeighborsClassifier\n",
    "from sklearn.linear_model import LogisticRegression\n",
    "from sklearn.metrics import accuracy_score"
   ]
  },
  {
   "cell_type": "code",
   "execution_count": 107,
   "metadata": {},
   "outputs": [],
   "source": [
    "# Lista de modelos\n",
    "models_num = {\n",
    "    \"Support Vector Classifier\": SVC(kernel='linear', random_state=42),\n",
    "    \"Artificial Neural Network\": MLPClassifier(activation=\"relu\", hidden_layer_sizes=(26), learning_rate='constant', learning_rate_init=0.02, momentum= 0.3, max_iter=500, verbose=False, random_state=42),\n",
    "    \"K-Nearest Neighbors\": KNeighborsClassifier(n_neighbors=3, metric='euclidean'),\n",
    "    \"Logistic Regression\": LogisticRegression(random_state=42),\n",
    "    \"Decision Tree\": DecisionTreeClassifier(criterion='gini', min_samples_leaf=20, max_depth=5,random_state=42),\n",
    "}\n",
    "\n",
    "models_cat = {\n",
    "    \"Decision Tree\": DecisionTreeClassifier(criterion='gini', min_samples_leaf=20, max_depth=5,random_state=42),\n",
    "}"
   ]
  },
  {
   "cell_type": "code",
   "execution_count": 112,
   "metadata": {},
   "outputs": [
    {
     "ename": "ValueError",
     "evalue": "could not convert string to float: '[18.0, 28.5)'",
     "output_type": "error",
     "traceback": [
      "\u001b[0;31m---------------------------------------------------------------------------\u001b[0m",
      "\u001b[0;31mValueError\u001b[0m                                Traceback (most recent call last)",
      "\u001b[0;32m/var/folders/x2/wzyt5ll12z77w4qw_gm51n8w0000gn/T/ipykernel_77381/2784758722.py\u001b[0m in \u001b[0;36m?\u001b[0;34m()\u001b[0m\n\u001b[1;32m      6\u001b[0m \u001b[0my\u001b[0m \u001b[0;34m=\u001b[0m \u001b[0mY_cat_train_bal\u001b[0m\u001b[0;34m\u001b[0m\u001b[0;34m\u001b[0m\u001b[0m\n\u001b[1;32m      7\u001b[0m \u001b[0;34m\u001b[0m\u001b[0m\n\u001b[1;32m      8\u001b[0m \u001b[0;31m# Entrenar el modelo de árbol de decisión en todos los datos de entrenamiento\u001b[0m\u001b[0;34m\u001b[0m\u001b[0;34m\u001b[0m\u001b[0m\n\u001b[1;32m      9\u001b[0m \u001b[0mmodel_dt\u001b[0m \u001b[0;34m=\u001b[0m \u001b[0mDecisionTreeClassifier\u001b[0m\u001b[0;34m(\u001b[0m\u001b[0mcriterion\u001b[0m\u001b[0;34m=\u001b[0m\u001b[0;34m'gini'\u001b[0m\u001b[0;34m,\u001b[0m \u001b[0mmin_samples_leaf\u001b[0m\u001b[0;34m=\u001b[0m\u001b[0;36m20\u001b[0m\u001b[0;34m,\u001b[0m \u001b[0mmax_depth\u001b[0m\u001b[0;34m=\u001b[0m\u001b[0;36m3\u001b[0m\u001b[0;34m,\u001b[0m \u001b[0mrandom_state\u001b[0m\u001b[0;34m=\u001b[0m\u001b[0;36m42\u001b[0m\u001b[0;34m)\u001b[0m\u001b[0;34m\u001b[0m\u001b[0;34m\u001b[0m\u001b[0m\n\u001b[0;32m---> 10\u001b[0;31m \u001b[0mmodel_dt\u001b[0m\u001b[0;34m.\u001b[0m\u001b[0mfit\u001b[0m\u001b[0;34m(\u001b[0m\u001b[0mX\u001b[0m\u001b[0;34m,\u001b[0m \u001b[0my\u001b[0m\u001b[0;34m)\u001b[0m\u001b[0;34m\u001b[0m\u001b[0;34m\u001b[0m\u001b[0m\n\u001b[0m\u001b[1;32m     11\u001b[0m \u001b[0;34m\u001b[0m\u001b[0m\n\u001b[1;32m     12\u001b[0m \u001b[0;31m# Graficar el árbol de decisión\u001b[0m\u001b[0;34m\u001b[0m\u001b[0;34m\u001b[0m\u001b[0m\n\u001b[1;32m     13\u001b[0m \u001b[0mplt\u001b[0m\u001b[0;34m.\u001b[0m\u001b[0mfigure\u001b[0m\u001b[0;34m(\u001b[0m\u001b[0mfigsize\u001b[0m\u001b[0;34m=\u001b[0m\u001b[0;34m(\u001b[0m\u001b[0;36m20\u001b[0m\u001b[0;34m,\u001b[0m \u001b[0;36m20\u001b[0m\u001b[0;34m)\u001b[0m\u001b[0;34m)\u001b[0m\u001b[0;34m\u001b[0m\u001b[0;34m\u001b[0m\u001b[0m\n",
      "\u001b[0;32m~/Documents/Depression-Risk-Analysis/venv/lib/python3.12/site-packages/sklearn/base.py\u001b[0m in \u001b[0;36m?\u001b[0;34m(estimator, *args, **kwargs)\u001b[0m\n\u001b[1;32m   1469\u001b[0m                 skip_parameter_validation=(\n\u001b[1;32m   1470\u001b[0m                     \u001b[0mprefer_skip_nested_validation\u001b[0m \u001b[0;32mor\u001b[0m \u001b[0mglobal_skip_validation\u001b[0m\u001b[0;34m\u001b[0m\u001b[0;34m\u001b[0m\u001b[0m\n\u001b[1;32m   1471\u001b[0m                 \u001b[0;34m)\u001b[0m\u001b[0;34m\u001b[0m\u001b[0;34m\u001b[0m\u001b[0m\n\u001b[1;32m   1472\u001b[0m             \u001b[0;34m)\u001b[0m\u001b[0;34m:\u001b[0m\u001b[0;34m\u001b[0m\u001b[0;34m\u001b[0m\u001b[0m\n\u001b[0;32m-> 1473\u001b[0;31m                 \u001b[0;32mreturn\u001b[0m \u001b[0mfit_method\u001b[0m\u001b[0;34m(\u001b[0m\u001b[0mestimator\u001b[0m\u001b[0;34m,\u001b[0m \u001b[0;34m*\u001b[0m\u001b[0margs\u001b[0m\u001b[0;34m,\u001b[0m \u001b[0;34m**\u001b[0m\u001b[0mkwargs\u001b[0m\u001b[0;34m)\u001b[0m\u001b[0;34m\u001b[0m\u001b[0;34m\u001b[0m\u001b[0m\n\u001b[0m",
      "\u001b[0;32m~/Documents/Depression-Risk-Analysis/venv/lib/python3.12/site-packages/sklearn/tree/_classes.py\u001b[0m in \u001b[0;36m?\u001b[0;34m(self, X, y, sample_weight, check_input)\u001b[0m\n\u001b[1;32m   1005\u001b[0m         \u001b[0mself\u001b[0m \u001b[0;34m:\u001b[0m \u001b[0mDecisionTreeClassifier\u001b[0m\u001b[0;34m\u001b[0m\u001b[0;34m\u001b[0m\u001b[0m\n\u001b[1;32m   1006\u001b[0m             \u001b[0mFitted\u001b[0m \u001b[0mestimator\u001b[0m\u001b[0;34m.\u001b[0m\u001b[0;34m\u001b[0m\u001b[0;34m\u001b[0m\u001b[0m\n\u001b[1;32m   1007\u001b[0m         \"\"\"\n\u001b[1;32m   1008\u001b[0m \u001b[0;34m\u001b[0m\u001b[0m\n\u001b[0;32m-> 1009\u001b[0;31m         super()._fit(\n\u001b[0m\u001b[1;32m   1010\u001b[0m             \u001b[0mX\u001b[0m\u001b[0;34m,\u001b[0m\u001b[0;34m\u001b[0m\u001b[0;34m\u001b[0m\u001b[0m\n\u001b[1;32m   1011\u001b[0m             \u001b[0my\u001b[0m\u001b[0;34m,\u001b[0m\u001b[0;34m\u001b[0m\u001b[0;34m\u001b[0m\u001b[0m\n\u001b[1;32m   1012\u001b[0m             \u001b[0msample_weight\u001b[0m\u001b[0;34m=\u001b[0m\u001b[0msample_weight\u001b[0m\u001b[0;34m,\u001b[0m\u001b[0;34m\u001b[0m\u001b[0;34m\u001b[0m\u001b[0m\n",
      "\u001b[0;32m~/Documents/Depression-Risk-Analysis/venv/lib/python3.12/site-packages/sklearn/tree/_classes.py\u001b[0m in \u001b[0;36m?\u001b[0;34m(self, X, y, sample_weight, check_input, missing_values_in_feature_mask)\u001b[0m\n\u001b[1;32m    248\u001b[0m             check_X_params = dict(\n\u001b[1;32m    249\u001b[0m                 \u001b[0mdtype\u001b[0m\u001b[0;34m=\u001b[0m\u001b[0mDTYPE\u001b[0m\u001b[0;34m,\u001b[0m \u001b[0maccept_sparse\u001b[0m\u001b[0;34m=\u001b[0m\u001b[0;34m\"csc\"\u001b[0m\u001b[0;34m,\u001b[0m \u001b[0mforce_all_finite\u001b[0m\u001b[0;34m=\u001b[0m\u001b[0;32mFalse\u001b[0m\u001b[0;34m\u001b[0m\u001b[0;34m\u001b[0m\u001b[0m\n\u001b[1;32m    250\u001b[0m             \u001b[0;34m)\u001b[0m\u001b[0;34m\u001b[0m\u001b[0;34m\u001b[0m\u001b[0m\n\u001b[1;32m    251\u001b[0m             \u001b[0mcheck_y_params\u001b[0m \u001b[0;34m=\u001b[0m \u001b[0mdict\u001b[0m\u001b[0;34m(\u001b[0m\u001b[0mensure_2d\u001b[0m\u001b[0;34m=\u001b[0m\u001b[0;32mFalse\u001b[0m\u001b[0;34m,\u001b[0m \u001b[0mdtype\u001b[0m\u001b[0;34m=\u001b[0m\u001b[0;32mNone\u001b[0m\u001b[0;34m)\u001b[0m\u001b[0;34m\u001b[0m\u001b[0;34m\u001b[0m\u001b[0m\n\u001b[0;32m--> 252\u001b[0;31m             X, y = self._validate_data(\n\u001b[0m\u001b[1;32m    253\u001b[0m                 \u001b[0mX\u001b[0m\u001b[0;34m,\u001b[0m \u001b[0my\u001b[0m\u001b[0;34m,\u001b[0m \u001b[0mvalidate_separately\u001b[0m\u001b[0;34m=\u001b[0m\u001b[0;34m(\u001b[0m\u001b[0mcheck_X_params\u001b[0m\u001b[0;34m,\u001b[0m \u001b[0mcheck_y_params\u001b[0m\u001b[0;34m)\u001b[0m\u001b[0;34m\u001b[0m\u001b[0;34m\u001b[0m\u001b[0m\n\u001b[1;32m    254\u001b[0m             \u001b[0;34m)\u001b[0m\u001b[0;34m\u001b[0m\u001b[0;34m\u001b[0m\u001b[0m\n\u001b[1;32m    255\u001b[0m \u001b[0;34m\u001b[0m\u001b[0m\n",
      "\u001b[0;32m~/Documents/Depression-Risk-Analysis/venv/lib/python3.12/site-packages/sklearn/base.py\u001b[0m in \u001b[0;36m?\u001b[0;34m(self, X, y, reset, validate_separately, cast_to_ndarray, **check_params)\u001b[0m\n\u001b[1;32m    641\u001b[0m                 \u001b[0;31m# :(\u001b[0m\u001b[0;34m\u001b[0m\u001b[0;34m\u001b[0m\u001b[0m\n\u001b[1;32m    642\u001b[0m                 \u001b[0mcheck_X_params\u001b[0m\u001b[0;34m,\u001b[0m \u001b[0mcheck_y_params\u001b[0m \u001b[0;34m=\u001b[0m \u001b[0mvalidate_separately\u001b[0m\u001b[0;34m\u001b[0m\u001b[0;34m\u001b[0m\u001b[0m\n\u001b[1;32m    643\u001b[0m                 \u001b[0;32mif\u001b[0m \u001b[0;34m\"estimator\"\u001b[0m \u001b[0;32mnot\u001b[0m \u001b[0;32min\u001b[0m \u001b[0mcheck_X_params\u001b[0m\u001b[0;34m:\u001b[0m\u001b[0;34m\u001b[0m\u001b[0;34m\u001b[0m\u001b[0m\n\u001b[1;32m    644\u001b[0m                     \u001b[0mcheck_X_params\u001b[0m \u001b[0;34m=\u001b[0m \u001b[0;34m{\u001b[0m\u001b[0;34m**\u001b[0m\u001b[0mdefault_check_params\u001b[0m\u001b[0;34m,\u001b[0m \u001b[0;34m**\u001b[0m\u001b[0mcheck_X_params\u001b[0m\u001b[0;34m}\u001b[0m\u001b[0;34m\u001b[0m\u001b[0;34m\u001b[0m\u001b[0m\n\u001b[0;32m--> 645\u001b[0;31m                 \u001b[0mX\u001b[0m \u001b[0;34m=\u001b[0m \u001b[0mcheck_array\u001b[0m\u001b[0;34m(\u001b[0m\u001b[0mX\u001b[0m\u001b[0;34m,\u001b[0m \u001b[0minput_name\u001b[0m\u001b[0;34m=\u001b[0m\u001b[0;34m\"X\"\u001b[0m\u001b[0;34m,\u001b[0m \u001b[0;34m**\u001b[0m\u001b[0mcheck_X_params\u001b[0m\u001b[0;34m)\u001b[0m\u001b[0;34m\u001b[0m\u001b[0;34m\u001b[0m\u001b[0m\n\u001b[0m\u001b[1;32m    646\u001b[0m                 \u001b[0;32mif\u001b[0m \u001b[0;34m\"estimator\"\u001b[0m \u001b[0;32mnot\u001b[0m \u001b[0;32min\u001b[0m \u001b[0mcheck_y_params\u001b[0m\u001b[0;34m:\u001b[0m\u001b[0;34m\u001b[0m\u001b[0;34m\u001b[0m\u001b[0m\n\u001b[1;32m    647\u001b[0m                     \u001b[0mcheck_y_params\u001b[0m \u001b[0;34m=\u001b[0m \u001b[0;34m{\u001b[0m\u001b[0;34m**\u001b[0m\u001b[0mdefault_check_params\u001b[0m\u001b[0;34m,\u001b[0m \u001b[0;34m**\u001b[0m\u001b[0mcheck_y_params\u001b[0m\u001b[0;34m}\u001b[0m\u001b[0;34m\u001b[0m\u001b[0;34m\u001b[0m\u001b[0m\n\u001b[1;32m    648\u001b[0m                 \u001b[0my\u001b[0m \u001b[0;34m=\u001b[0m \u001b[0mcheck_array\u001b[0m\u001b[0;34m(\u001b[0m\u001b[0my\u001b[0m\u001b[0;34m,\u001b[0m \u001b[0minput_name\u001b[0m\u001b[0;34m=\u001b[0m\u001b[0;34m\"y\"\u001b[0m\u001b[0;34m,\u001b[0m \u001b[0;34m**\u001b[0m\u001b[0mcheck_y_params\u001b[0m\u001b[0;34m)\u001b[0m\u001b[0;34m\u001b[0m\u001b[0;34m\u001b[0m\u001b[0m\n",
      "\u001b[0;32m~/Documents/Depression-Risk-Analysis/venv/lib/python3.12/site-packages/sklearn/utils/validation.py\u001b[0m in \u001b[0;36m?\u001b[0;34m(array, accept_sparse, accept_large_sparse, dtype, order, copy, force_writeable, force_all_finite, ensure_2d, allow_nd, ensure_min_samples, ensure_min_features, estimator, input_name)\u001b[0m\n\u001b[1;32m   1009\u001b[0m                         \u001b[0;34m)\u001b[0m\u001b[0;34m\u001b[0m\u001b[0;34m\u001b[0m\u001b[0m\n\u001b[1;32m   1010\u001b[0m                     \u001b[0marray\u001b[0m \u001b[0;34m=\u001b[0m \u001b[0mxp\u001b[0m\u001b[0;34m.\u001b[0m\u001b[0mastype\u001b[0m\u001b[0;34m(\u001b[0m\u001b[0marray\u001b[0m\u001b[0;34m,\u001b[0m \u001b[0mdtype\u001b[0m\u001b[0;34m,\u001b[0m \u001b[0mcopy\u001b[0m\u001b[0;34m=\u001b[0m\u001b[0;32mFalse\u001b[0m\u001b[0;34m)\u001b[0m\u001b[0;34m\u001b[0m\u001b[0;34m\u001b[0m\u001b[0m\n\u001b[1;32m   1011\u001b[0m                 \u001b[0;32melse\u001b[0m\u001b[0;34m:\u001b[0m\u001b[0;34m\u001b[0m\u001b[0;34m\u001b[0m\u001b[0m\n\u001b[1;32m   1012\u001b[0m                     \u001b[0marray\u001b[0m \u001b[0;34m=\u001b[0m \u001b[0m_asarray_with_order\u001b[0m\u001b[0;34m(\u001b[0m\u001b[0marray\u001b[0m\u001b[0;34m,\u001b[0m \u001b[0morder\u001b[0m\u001b[0;34m=\u001b[0m\u001b[0morder\u001b[0m\u001b[0;34m,\u001b[0m \u001b[0mdtype\u001b[0m\u001b[0;34m=\u001b[0m\u001b[0mdtype\u001b[0m\u001b[0;34m,\u001b[0m \u001b[0mxp\u001b[0m\u001b[0;34m=\u001b[0m\u001b[0mxp\u001b[0m\u001b[0;34m)\u001b[0m\u001b[0;34m\u001b[0m\u001b[0;34m\u001b[0m\u001b[0m\n\u001b[0;32m-> 1013\u001b[0;31m             \u001b[0;32mexcept\u001b[0m \u001b[0mComplexWarning\u001b[0m \u001b[0;32mas\u001b[0m \u001b[0mcomplex_warning\u001b[0m\u001b[0;34m:\u001b[0m\u001b[0;34m\u001b[0m\u001b[0;34m\u001b[0m\u001b[0m\n\u001b[0m\u001b[1;32m   1014\u001b[0m                 raise ValueError(\n\u001b[1;32m   1015\u001b[0m                     \u001b[0;34m\"Complex data not supported\\n{}\\n\"\u001b[0m\u001b[0;34m.\u001b[0m\u001b[0mformat\u001b[0m\u001b[0;34m(\u001b[0m\u001b[0marray\u001b[0m\u001b[0;34m)\u001b[0m\u001b[0;34m\u001b[0m\u001b[0;34m\u001b[0m\u001b[0m\n\u001b[1;32m   1016\u001b[0m                 \u001b[0;34m)\u001b[0m \u001b[0;32mfrom\u001b[0m \u001b[0mcomplex_warning\u001b[0m\u001b[0;34m\u001b[0m\u001b[0;34m\u001b[0m\u001b[0m\n",
      "\u001b[0;32m~/Documents/Depression-Risk-Analysis/venv/lib/python3.12/site-packages/sklearn/utils/_array_api.py\u001b[0m in \u001b[0;36m?\u001b[0;34m(array, dtype, order, copy, xp, device)\u001b[0m\n\u001b[1;32m    741\u001b[0m         \u001b[0;31m# Use NumPy API to support order\u001b[0m\u001b[0;34m\u001b[0m\u001b[0;34m\u001b[0m\u001b[0m\n\u001b[1;32m    742\u001b[0m         \u001b[0;32mif\u001b[0m \u001b[0mcopy\u001b[0m \u001b[0;32mis\u001b[0m \u001b[0;32mTrue\u001b[0m\u001b[0;34m:\u001b[0m\u001b[0;34m\u001b[0m\u001b[0;34m\u001b[0m\u001b[0m\n\u001b[1;32m    743\u001b[0m             \u001b[0marray\u001b[0m \u001b[0;34m=\u001b[0m \u001b[0mnumpy\u001b[0m\u001b[0;34m.\u001b[0m\u001b[0marray\u001b[0m\u001b[0;34m(\u001b[0m\u001b[0marray\u001b[0m\u001b[0;34m,\u001b[0m \u001b[0morder\u001b[0m\u001b[0;34m=\u001b[0m\u001b[0morder\u001b[0m\u001b[0;34m,\u001b[0m \u001b[0mdtype\u001b[0m\u001b[0;34m=\u001b[0m\u001b[0mdtype\u001b[0m\u001b[0;34m)\u001b[0m\u001b[0;34m\u001b[0m\u001b[0;34m\u001b[0m\u001b[0m\n\u001b[1;32m    744\u001b[0m         \u001b[0;32melse\u001b[0m\u001b[0;34m:\u001b[0m\u001b[0;34m\u001b[0m\u001b[0;34m\u001b[0m\u001b[0m\n\u001b[0;32m--> 745\u001b[0;31m             \u001b[0marray\u001b[0m \u001b[0;34m=\u001b[0m \u001b[0mnumpy\u001b[0m\u001b[0;34m.\u001b[0m\u001b[0masarray\u001b[0m\u001b[0;34m(\u001b[0m\u001b[0marray\u001b[0m\u001b[0;34m,\u001b[0m \u001b[0morder\u001b[0m\u001b[0;34m=\u001b[0m\u001b[0morder\u001b[0m\u001b[0;34m,\u001b[0m \u001b[0mdtype\u001b[0m\u001b[0;34m=\u001b[0m\u001b[0mdtype\u001b[0m\u001b[0;34m)\u001b[0m\u001b[0;34m\u001b[0m\u001b[0;34m\u001b[0m\u001b[0m\n\u001b[0m\u001b[1;32m    746\u001b[0m \u001b[0;34m\u001b[0m\u001b[0m\n\u001b[1;32m    747\u001b[0m         \u001b[0;31m# At this point array is a NumPy ndarray. We convert it to an array\u001b[0m\u001b[0;34m\u001b[0m\u001b[0;34m\u001b[0m\u001b[0m\n\u001b[1;32m    748\u001b[0m         \u001b[0;31m# container that is consistent with the input's namespace.\u001b[0m\u001b[0;34m\u001b[0m\u001b[0;34m\u001b[0m\u001b[0m\n",
      "\u001b[0;32m~/Documents/Depression-Risk-Analysis/venv/lib/python3.12/site-packages/pandas/core/generic.py\u001b[0m in \u001b[0;36m?\u001b[0;34m(self, dtype, copy)\u001b[0m\n\u001b[1;32m   2149\u001b[0m     def __array__(\n\u001b[1;32m   2150\u001b[0m         \u001b[0mself\u001b[0m\u001b[0;34m,\u001b[0m \u001b[0mdtype\u001b[0m\u001b[0;34m:\u001b[0m \u001b[0mnpt\u001b[0m\u001b[0;34m.\u001b[0m\u001b[0mDTypeLike\u001b[0m \u001b[0;34m|\u001b[0m \u001b[0;32mNone\u001b[0m \u001b[0;34m=\u001b[0m \u001b[0;32mNone\u001b[0m\u001b[0;34m,\u001b[0m \u001b[0mcopy\u001b[0m\u001b[0;34m:\u001b[0m \u001b[0mbool_t\u001b[0m \u001b[0;34m|\u001b[0m \u001b[0;32mNone\u001b[0m \u001b[0;34m=\u001b[0m \u001b[0;32mNone\u001b[0m\u001b[0;34m\u001b[0m\u001b[0;34m\u001b[0m\u001b[0m\n\u001b[1;32m   2151\u001b[0m     \u001b[0;34m)\u001b[0m \u001b[0;34m->\u001b[0m \u001b[0mnp\u001b[0m\u001b[0;34m.\u001b[0m\u001b[0mndarray\u001b[0m\u001b[0;34m:\u001b[0m\u001b[0;34m\u001b[0m\u001b[0;34m\u001b[0m\u001b[0m\n\u001b[1;32m   2152\u001b[0m         \u001b[0mvalues\u001b[0m \u001b[0;34m=\u001b[0m \u001b[0mself\u001b[0m\u001b[0;34m.\u001b[0m\u001b[0m_values\u001b[0m\u001b[0;34m\u001b[0m\u001b[0;34m\u001b[0m\u001b[0m\n\u001b[0;32m-> 2153\u001b[0;31m         \u001b[0marr\u001b[0m \u001b[0;34m=\u001b[0m \u001b[0mnp\u001b[0m\u001b[0;34m.\u001b[0m\u001b[0masarray\u001b[0m\u001b[0;34m(\u001b[0m\u001b[0mvalues\u001b[0m\u001b[0;34m,\u001b[0m \u001b[0mdtype\u001b[0m\u001b[0;34m=\u001b[0m\u001b[0mdtype\u001b[0m\u001b[0;34m)\u001b[0m\u001b[0;34m\u001b[0m\u001b[0;34m\u001b[0m\u001b[0m\n\u001b[0m\u001b[1;32m   2154\u001b[0m         if (\n\u001b[1;32m   2155\u001b[0m             \u001b[0mastype_is_view\u001b[0m\u001b[0;34m(\u001b[0m\u001b[0mvalues\u001b[0m\u001b[0;34m.\u001b[0m\u001b[0mdtype\u001b[0m\u001b[0;34m,\u001b[0m \u001b[0marr\u001b[0m\u001b[0;34m.\u001b[0m\u001b[0mdtype\u001b[0m\u001b[0;34m)\u001b[0m\u001b[0;34m\u001b[0m\u001b[0;34m\u001b[0m\u001b[0m\n\u001b[1;32m   2156\u001b[0m             \u001b[0;32mand\u001b[0m \u001b[0musing_copy_on_write\u001b[0m\u001b[0;34m(\u001b[0m\u001b[0;34m)\u001b[0m\u001b[0;34m\u001b[0m\u001b[0;34m\u001b[0m\u001b[0m\n",
      "\u001b[0;31mValueError\u001b[0m: could not convert string to float: '[18.0, 28.5)'"
     ]
    }
   ],
   "source": [
    "from sklearn.tree import DecisionTreeClassifier, plot_tree\n",
    "import matplotlib.pyplot as plt\n",
    "\n",
    "# Datos de ejemplo para entrenamiento, reemplaza con tu conjunto de datos completo de entrenamiento\n",
    "X = X_cat_train_bal  # o los datos que consideres finales para graficar\n",
    "y = Y_cat_train_bal\n",
    "\n",
    "# Entrenar el modelo de árbol de decisión en todos los datos de entrenamiento\n",
    "model_dt = DecisionTreeClassifier(criterion='gini', min_samples_leaf=20, max_depth=3, random_state=42)\n",
    "model_dt.fit(X, y)\n",
    "\n",
    "# Graficar el árbol de decisión\n",
    "plt.figure(figsize=(20, 20))\n",
    "plot_tree(model_dt, \n",
    "          feature_names=X.columns,  # Ajusta si tus columnas cambiaron tras el preprocesamiento\n",
    "          class_names=labelencoder.classes_,  # Asegúrate de que labelencoder esté definido y ajustado\n",
    "          rounded=True, \n",
    "          filled=True)\n",
    "plt.show()\n"
   ]
  },
  {
   "cell_type": "code",
   "execution_count": 109,
   "metadata": {},
   "outputs": [],
   "source": [
    "# Configuración de validación cruzada\n",
    "cv = StratifiedKFold(n_splits=10, shuffle=True, random_state=42)\n",
    "\n",
    "# Función para realizar validación cruzada con cross_validate\n",
    "def crossValidateModels(models, X, y, cv):\n",
    "    results = {}\n",
    "    for model_name, model in models.items():\n",
    "        # Evaluar el modelo con cross_validate\n",
    "        scores = cross_validate(model, X, y, cv=cv, scoring='accuracy', return_train_score=True)\n",
    "        results[model_name] = {\n",
    "            \"Train Score Mean\": scores['train_score'].mean(),\n",
    "            \"Test Score Mean\": scores['test_score'].mean(),\n",
    "            \"Fit Time Mean\": scores['fit_time'].mean(),\n",
    "            \"Score Time Mean\": scores['score_time'].mean()\n",
    "        }\n",
    "\n",
    "        print(f\"Modelo: {model_name}\")\n",
    "        print(f\"   - Precisión media (entrenamiento): {scores['train_score'].mean():.2f}\")\n",
    "        print(f\"   - Precisión media (validación): {scores['test_score'].mean():.2f}\")\n",
    "        print(f\"   - Tiempo de ajuste medio: {scores['fit_time'].mean():.4f} segundos\")\n",
    "        print(f\"   - Tiempo de evaluación medio: {scores['score_time'].mean():.4f} segundos\\n\")\n",
    "    return results"
   ]
  },
  {
   "cell_type": "code",
   "execution_count": 110,
   "metadata": {},
   "outputs": [
    {
     "name": "stdout",
     "output_type": "stream",
     "text": [
      "Modelos para datos numéricos:\n",
      "Modelo: Support Vector Classifier\n",
      "   - Precisión media (entrenamiento): 0.98\n",
      "   - Precisión media (validación): 0.97\n",
      "   - Tiempo de ajuste medio: 0.0306 segundos\n",
      "   - Tiempo de evaluación medio: 0.0030 segundos\n",
      "\n",
      "Modelo: Artificial Neural Network\n",
      "   - Precisión media (entrenamiento): 1.00\n",
      "   - Precisión media (validación): 0.97\n",
      "   - Tiempo de ajuste medio: 0.1445 segundos\n",
      "   - Tiempo de evaluación medio: 0.0013 segundos\n",
      "\n",
      "Modelo: K-Nearest Neighbors\n",
      "   - Precisión media (entrenamiento): 0.93\n",
      "   - Precisión media (validación): 0.87\n",
      "   - Tiempo de ajuste medio: 0.0034 segundos\n",
      "   - Tiempo de evaluación medio: 0.0095 segundos\n",
      "\n",
      "Modelo: Logistic Regression\n",
      "   - Precisión media (entrenamiento): 0.98\n",
      "   - Precisión media (validación): 0.98\n",
      "   - Tiempo de ajuste medio: 0.0082 segundos\n",
      "   - Tiempo de evaluación medio: 0.0013 segundos\n",
      "\n",
      "Modelo: Decision Tree\n",
      "   - Precisión media (entrenamiento): 0.90\n",
      "   - Precisión media (validación): 0.88\n",
      "   - Tiempo de ajuste medio: 0.0058 segundos\n",
      "   - Tiempo de evaluación medio: 0.0011 segundos\n",
      "\n"
     ]
    }
   ],
   "source": [
    "print(\"Modelos para datos numéricos:\")\n",
    "resultsNum = crossValidateModels(models_num, X_num_train_bal, Y_num_train_bal, cv)"
   ]
  },
  {
   "cell_type": "code",
   "execution_count": 111,
   "metadata": {},
   "outputs": [
    {
     "ename": "NameError",
     "evalue": "name 't' is not defined",
     "output_type": "error",
     "traceback": [
      "\u001b[0;31m---------------------------------------------------------------------------\u001b[0m",
      "\u001b[0;31mNameError\u001b[0m                                 Traceback (most recent call last)",
      "Cell \u001b[0;32mIn[111], line 1\u001b[0m\n\u001b[0;32m----> 1\u001b[0m \u001b[43mt\u001b[49m(\u001b[38;5;124m\"\u001b[39m\u001b[38;5;124mModelos para datos numéricos:\u001b[39m\u001b[38;5;124m\"\u001b[39m)\n\u001b[1;32m      2\u001b[0m resultsNum \u001b[38;5;241m=\u001b[39m crossValidateModels(models_cat, X_num_train_bal, Y_num_train_bal, cv)\n",
      "\u001b[0;31mNameError\u001b[0m: name 't' is not defined"
     ]
    }
   ],
   "source": [
    "t(\"Modelos para datos numéricos:\")\n",
    "resultsNum = crossValidateModels(models_cat, X_num_train_bal, Y_num_train_bal, cv)"
   ]
  }
 ],
 "metadata": {
  "kernelspec": {
   "display_name": "venv",
   "language": "python",
   "name": "python3"
  },
  "language_info": {
   "codemirror_mode": {
    "name": "ipython",
    "version": 3
   },
   "file_extension": ".py",
   "mimetype": "text/x-python",
   "name": "python",
   "nbconvert_exporter": "python",
   "pygments_lexer": "ipython3",
   "version": "3.12.7"
  }
 },
 "nbformat": 4,
 "nbformat_minor": 2
}
